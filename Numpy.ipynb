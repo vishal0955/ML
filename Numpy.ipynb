{
  "nbformat": 4,
  "nbformat_minor": 0,
  "metadata": {
    "colab": {
      "name": "Numpy.ipynb",
      "provenance": []
    },
    "kernelspec": {
      "name": "python3",
      "display_name": "Python 3"
    },
    "language_info": {
      "name": "python"
    }
  },
  "cells": [
    {
      "cell_type": "code",
      "execution_count": null,
      "metadata": {
        "id": "s7XyMP69nfkg"
      },
      "outputs": [],
      "source": [
        "import numpy as np\n"
      ]
    },
    {
      "cell_type": "markdown",
      "source": [
        "empty creates an array whose initial content is random and depends on the state of the memory."
      ],
      "metadata": {
        "id": "AdN4NG61nm1T"
      }
    },
    {
      "cell_type": "code",
      "source": [
        "np.empty(2)"
      ],
      "metadata": {
        "colab": {
          "base_uri": "https://localhost:8080/"
        },
        "id": "2ab-hmubnwaJ",
        "outputId": "4c841aee-2ffc-4907-c5ff-e9103c1d0705"
      },
      "execution_count": null,
      "outputs": [
        {
          "output_type": "execute_result",
          "data": {
            "text/plain": [
              "array([4.6396872e-310, 0.0000000e+000])"
            ]
          },
          "metadata": {},
          "execution_count": 4
        }
      ]
    },
    {
      "cell_type": "markdown",
      "source": [
        "While the default data type is floating point (np.float64), you can explicitly specify which data type you want using the dtype keyword."
      ],
      "metadata": {
        "id": "8g0nOtCuoKhV"
      }
    },
    {
      "cell_type": "code",
      "source": [
        "arr = np.ones(2, dtype=np.int64)\n",
        "arr"
      ],
      "metadata": {
        "colab": {
          "base_uri": "https://localhost:8080/"
        },
        "id": "UAEJL9d4oDij",
        "outputId": "ad5dbe64-158b-4ecb-a6b5-bae365a36a89"
      },
      "execution_count": null,
      "outputs": [
        {
          "output_type": "execute_result",
          "data": {
            "text/plain": [
              "array([1, 1])"
            ]
          },
          "metadata": {},
          "execution_count": 5
        }
      ]
    },
    {
      "cell_type": "code",
      "source": [
        "arr_3d = np.array([[[0, 1, 2, 3],\n",
        "                    [4, 5, 6, 7]],\n",
        "\n",
        "                   [[0, 1, 2, 3],\n",
        "                    [4, 5, 6, 7]],\n",
        "\n",
        "                   [[0, 1, 2, 3],\n",
        "                    [4, 5, 6, 7]]])"
      ],
      "metadata": {
        "id": "xURhjCWRoQmD"
      },
      "execution_count": null,
      "outputs": []
    },
    {
      "cell_type": "markdown",
      "source": [
        "ndim will tell you the number of axes, or dimensions, of the array."
      ],
      "metadata": {
        "id": "49GqFNndoZgS"
      }
    },
    {
      "cell_type": "code",
      "source": [
        "arr_3d.ndim"
      ],
      "metadata": {
        "colab": {
          "base_uri": "https://localhost:8080/"
        },
        "id": "WlmtfUaqokya",
        "outputId": "b8b1860c-882f-40ca-e296-00532abc8e52"
      },
      "execution_count": null,
      "outputs": [
        {
          "output_type": "execute_result",
          "data": {
            "text/plain": [
              "3"
            ]
          },
          "metadata": {},
          "execution_count": 7
        }
      ]
    },
    {
      "cell_type": "markdown",
      "source": [
        "size will tell you the total number of elements of the array."
      ],
      "metadata": {
        "id": "G1xoBMz3o5eO"
      }
    },
    {
      "cell_type": "code",
      "source": [
        "arr_3d.size"
      ],
      "metadata": {
        "colab": {
          "base_uri": "https://localhost:8080/"
        },
        "id": "7QZIo-myo3so",
        "outputId": "aad920ce-a9c1-436a-902c-aeb0f62b1d4d"
      },
      "execution_count": null,
      "outputs": [
        {
          "output_type": "execute_result",
          "data": {
            "text/plain": [
              "24"
            ]
          },
          "metadata": {},
          "execution_count": 8
        }
      ]
    },
    {
      "cell_type": "markdown",
      "source": [
        "arange is used to create an array with a range of elements. The parameters are first number, last number and the step size respectively."
      ],
      "metadata": {
        "id": "KAadZ8b9pJUp"
      }
    },
    {
      "cell_type": "code",
      "source": [
        "np.arange(2,9,2)"
      ],
      "metadata": {
        "colab": {
          "base_uri": "https://localhost:8080/"
        },
        "id": "WG_sy8a9pLvS",
        "outputId": "dbab0861-5f85-466f-b645-0be03507f766"
      },
      "execution_count": null,
      "outputs": [
        {
          "output_type": "execute_result",
          "data": {
            "text/plain": [
              "array([2, 4, 6, 8])"
            ]
          },
          "metadata": {},
          "execution_count": 10
        }
      ]
    },
    {
      "cell_type": "code",
      "source": [
        "arr = np.arange(6)\n",
        "print(arr)"
      ],
      "metadata": {
        "colab": {
          "base_uri": "https://localhost:8080/"
        },
        "id": "KbVwEHMqpr45",
        "outputId": "9071f762-de3f-49d2-d5e1-51cc39be4c80"
      },
      "execution_count": null,
      "outputs": [
        {
          "output_type": "stream",
          "name": "stdout",
          "text": [
            "[0 1 2 3 4 5]\n"
          ]
        }
      ]
    },
    {
      "cell_type": "markdown",
      "source": [
        "reshape will give a new shape to an array without changing the data."
      ],
      "metadata": {
        "id": "MzjeZUZvqFjt"
      }
    },
    {
      "cell_type": "code",
      "source": [
        "new_arr = arr.reshape(3,2)\n",
        "print(new_arr)"
      ],
      "metadata": {
        "id": "IAJ0ZcqKqJe3",
        "colab": {
          "base_uri": "https://localhost:8080/"
        },
        "outputId": "ef559439-dc68-4ae9-9c99-c6c5f73b6c81"
      },
      "execution_count": 12,
      "outputs": [
        {
          "output_type": "stream",
          "name": "stdout",
          "text": [
            "[[0 1]\n",
            " [2 3]\n",
            " [4 5]]\n"
          ]
        }
      ]
    },
    {
      "cell_type": "markdown",
      "source": [
        "resize will resize an array in-place."
      ],
      "metadata": {
        "id": "j4TIyU3_qZkq"
      }
    },
    {
      "cell_type": "code",
      "source": [
        "arr = np.array([[0,1],[2,3]])"
      ],
      "metadata": {
        "id": "EQJruUw3qa39"
      },
      "execution_count": 13,
      "outputs": []
    },
    {
      "cell_type": "code",
      "source": [
        "np.resize(arr,(2,3))"
      ],
      "metadata": {
        "colab": {
          "base_uri": "https://localhost:8080/"
        },
        "id": "P0kRKAbIqoOr",
        "outputId": "aa2143bd-8786-45e5-98ea-c0722fb92d81"
      },
      "execution_count": 14,
      "outputs": [
        {
          "output_type": "execute_result",
          "data": {
            "text/plain": [
              "array([[0, 1, 2],\n",
              "       [3, 0, 1]])"
            ]
          },
          "metadata": {},
          "execution_count": 14
        }
      ]
    },
    {
      "cell_type": "markdown",
      "source": [
        "flatten is used to convert your array into a 1D array."
      ],
      "metadata": {
        "id": "Ye78coctqw1c"
      }
    },
    {
      "cell_type": "code",
      "source": [
        "arr = np.array([[1 , 2, 3, 4], [5, 6, 7, 8], [9, 10, 11, 12]])\n",
        "arr.flatten()"
      ],
      "metadata": {
        "colab": {
          "base_uri": "https://localhost:8080/"
        },
        "id": "fkLIcHZvqv6D",
        "outputId": "74f01925-6dec-4907-fc8f-d60df86dfe88"
      },
      "execution_count": 15,
      "outputs": [
        {
          "output_type": "execute_result",
          "data": {
            "text/plain": [
              "array([ 1,  2,  3,  4,  5,  6,  7,  8,  9, 10, 11, 12])"
            ]
          },
          "metadata": {},
          "execution_count": 15
        }
      ]
    }
  ]
}