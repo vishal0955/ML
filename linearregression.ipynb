{
  "nbformat": 4,
  "nbformat_minor": 0,
  "metadata": {
    "colab": {
      "name": "linearregression.ipynb",
      "provenance": []
    },
    "kernelspec": {
      "name": "python3",
      "display_name": "Python 3"
    },
    "language_info": {
      "name": "python"
    }
  },
  "cells": [
    {
      "cell_type": "code",
      "execution_count": 1,
      "metadata": {
        "id": "sp037LlWUcpm"
      },
      "outputs": [],
      "source": [
        "class LinearRegression:\n",
        "  def __init__(self,wg=10.1,bi=5,lr=1.01,it=3):\n",
        "    self.wg=wg\n",
        "    self.bi=bi\n",
        "    self.lr=lr\n",
        "    self.it=it\n",
        "    self.cost_trend=[]\n",
        "    self.cost=0\n",
        "\n",
        "  def predict(self,x):\n",
        "    predicted_set=[]\n",
        "    for i in range(len(x)):\n",
        "      pre_val=self.wg * x[i] + self.bi\n",
        "      predicted_set.append(pre_val)\n",
        "    return predicted_set\n",
        "\n",
        "  def cost_function(self,x,y):\n",
        "    count=len(x)\n",
        "    total_error=0.0\n",
        "    for i in range(count):\n",
        "      total_error += (y[i]-(self.wg * x[i] + self.bi)) ** 2\n",
        "    return float(total_error) / (2*count)\n",
        "\n",
        "  def update_weights(self,x,y):\n",
        "    wg_deriv=0\n",
        "    bg_deriv=0\n",
        "    count=len(x)\n",
        "    for i in range(count):\n",
        "      wg_deriv += -2 * x[i] * (y[i] - (self.wg * x[i] + self.bi))\n",
        "      bg_deriv += -2 * (y[i] - (self.wg * x[i] + self.bi))\n",
        "\n",
        "    self.wg -= (wg_deriv/count) * self.lr\n",
        "    self.bi -= (bg_deriv/count) * self.lr\n",
        "\n",
        "  \n",
        "  def train(self,x,y):\n",
        "    for i in range(self.iteration):\n",
        "      self.update_weights(x,y)\n",
        "      self.cost = self.cost_function(x,y)\n",
        "      self.cost_trend.append(self.cost)\n",
        "      print(\"Iteration: {}\\t Weight : {}\\t Bias: {}\\t Cost: {}\".format(i,self.wg,self.bi,self.cost))"
      ]
    }
  ]
}